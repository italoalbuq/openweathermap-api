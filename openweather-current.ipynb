{
 "cells": [
  {
   "cell_type": "code",
   "execution_count": 1,
   "id": "8aebed1f",
   "metadata": {},
   "outputs": [],
   "source": [
    "import requests\n",
    "from datetime import datetime as dt\n",
    "import json\n",
    "import pandas as pd"
   ]
  },
  {
   "cell_type": "code",
   "execution_count": 2,
   "id": "0e03a107",
   "metadata": {},
   "outputs": [],
   "source": [
    "base_url = 'http://api.openweathermap.org/data/2.5/weather?'"
   ]
  },
  {
   "cell_type": "code",
   "execution_count": 3,
   "id": "9e2f97e1",
   "metadata": {},
   "outputs": [],
   "source": [
    "api_key = '2e37b4ee2ba8d12d1bdd1abe89b63b78'"
   ]
  },
  {
   "cell_type": "code",
   "execution_count": 4,
   "id": "440fdd98",
   "metadata": {},
   "outputs": [],
   "source": [
    "lat= \"-22.936015\"\n",
    "lon = \"-43.176353\"\n",
    "lang = 'pt_br'\n",
    "units = 'metric'"
   ]
  },
  {
   "cell_type": "code",
   "execution_count": 5,
   "id": "a03233a9",
   "metadata": {},
   "outputs": [],
   "source": [
    "complete_url = base_url + \"lat=\" + lat + \"&lon=\" + lon + \"&appid=\" + api_key + \"&lang=\" + lang + \"&units=\" + units"
   ]
  },
  {
   "cell_type": "code",
   "execution_count": 6,
   "id": "236eae7a",
   "metadata": {},
   "outputs": [],
   "source": [
    "response = requests.get(complete_url)"
   ]
  },
  {
   "cell_type": "code",
   "execution_count": 7,
   "id": "ad7ea7d5",
   "metadata": {},
   "outputs": [
    {
     "data": {
      "text/plain": [
       "{'coord': {'lon': -43.1764, 'lat': -22.936},\n",
       " 'weather': [{'id': 804,\n",
       "   'main': 'Clouds',\n",
       "   'description': 'nublado',\n",
       "   'icon': '04n'}],\n",
       " 'base': 'stations',\n",
       " 'main': {'temp': 24.87,\n",
       "  'feels_like': 25.84,\n",
       "  'temp_min': 24.87,\n",
       "  'temp_max': 26.53,\n",
       "  'pressure': 1014,\n",
       "  'humidity': 93},\n",
       " 'visibility': 10000,\n",
       " 'wind': {'speed': 3.09, 'deg': 30},\n",
       " 'clouds': {'all': 100},\n",
       " 'dt': 1700792175,\n",
       " 'sys': {'type': 1,\n",
       "  'id': 8429,\n",
       "  'country': 'BR',\n",
       "  'sunrise': 1700726357,\n",
       "  'sunset': 1700774348},\n",
       " 'timezone': -10800,\n",
       " 'id': 3473664,\n",
       " 'name': 'Copacabana',\n",
       " 'cod': 200}"
      ]
     },
     "execution_count": 7,
     "metadata": {},
     "output_type": "execute_result"
    }
   ],
   "source": [
    "x = response.json()\n",
    "x"
   ]
  },
  {
   "cell_type": "code",
   "execution_count": 8,
   "id": "86e5838b",
   "metadata": {},
   "outputs": [],
   "source": [
    "data = {}\n",
    "for key, value in x.items():\n",
    "    if isinstance(value, dict):\n",
    "        for sub_key, sub_value in value.items():\n",
    "            col_name = f\"{key}_{sub_key}\"\n",
    "            data[col_name] = [sub_value]\n",
    "    else:\n",
    "        data[key] = [value]\n",
    "\n",
    "df = pd.DataFrame(data)"
   ]
  },
  {
   "cell_type": "code",
   "execution_count": 9,
   "id": "8a7feb64",
   "metadata": {},
   "outputs": [
    {
     "data": {
      "text/html": [
       "<div>\n",
       "<style scoped>\n",
       "    .dataframe tbody tr th:only-of-type {\n",
       "        vertical-align: middle;\n",
       "    }\n",
       "\n",
       "    .dataframe tbody tr th {\n",
       "        vertical-align: top;\n",
       "    }\n",
       "\n",
       "    .dataframe thead th {\n",
       "        text-align: right;\n",
       "    }\n",
       "</style>\n",
       "<table border=\"1\" class=\"dataframe\">\n",
       "  <thead>\n",
       "    <tr style=\"text-align: right;\">\n",
       "      <th></th>\n",
       "      <th>coord_lon</th>\n",
       "      <th>coord_lat</th>\n",
       "      <th>base</th>\n",
       "      <th>main_temp</th>\n",
       "      <th>main_feels_like</th>\n",
       "      <th>main_temp_min</th>\n",
       "      <th>main_temp_max</th>\n",
       "      <th>main_pressure</th>\n",
       "      <th>main_humidity</th>\n",
       "      <th>visibility</th>\n",
       "      <th>...</th>\n",
       "      <th>sys_sunrise</th>\n",
       "      <th>sys_sunset</th>\n",
       "      <th>timezone</th>\n",
       "      <th>id</th>\n",
       "      <th>name</th>\n",
       "      <th>cod</th>\n",
       "      <th>Weather_0_id</th>\n",
       "      <th>Weather_0_main</th>\n",
       "      <th>Weather_0_description</th>\n",
       "      <th>Weather_0_icon</th>\n",
       "    </tr>\n",
       "  </thead>\n",
       "  <tbody>\n",
       "    <tr>\n",
       "      <th>0</th>\n",
       "      <td>-43.1764</td>\n",
       "      <td>-22.936</td>\n",
       "      <td>stations</td>\n",
       "      <td>24.87</td>\n",
       "      <td>25.84</td>\n",
       "      <td>24.87</td>\n",
       "      <td>26.53</td>\n",
       "      <td>1014</td>\n",
       "      <td>93</td>\n",
       "      <td>10000</td>\n",
       "      <td>...</td>\n",
       "      <td>1700726357</td>\n",
       "      <td>1700774348</td>\n",
       "      <td>-10800</td>\n",
       "      <td>3473664</td>\n",
       "      <td>Copacabana</td>\n",
       "      <td>200</td>\n",
       "      <td>804</td>\n",
       "      <td>Clouds</td>\n",
       "      <td>nublado</td>\n",
       "      <td>04n</td>\n",
       "    </tr>\n",
       "  </tbody>\n",
       "</table>\n",
       "<p>1 rows × 27 columns</p>\n",
       "</div>"
      ],
      "text/plain": [
       "   coord_lon  coord_lat      base  main_temp  main_feels_like  main_temp_min  \\\n",
       "0   -43.1764    -22.936  stations      24.87            25.84          24.87   \n",
       "\n",
       "   main_temp_max  main_pressure  main_humidity  visibility  ...  sys_sunrise  \\\n",
       "0          26.53           1014             93       10000  ...   1700726357   \n",
       "\n",
       "   sys_sunset  timezone       id        name  cod Weather_0_id  \\\n",
       "0  1700774348    -10800  3473664  Copacabana  200          804   \n",
       "\n",
       "   Weather_0_main  Weather_0_description  Weather_0_icon  \n",
       "0          Clouds                nublado             04n  \n",
       "\n",
       "[1 rows x 27 columns]"
      ]
     },
     "execution_count": 9,
     "metadata": {},
     "output_type": "execute_result"
    }
   ],
   "source": [
    "# Convertendo a lista de 'weather' em colunas separadas\n",
    "weather_data = df['weather'].apply(pd.Series)\n",
    "weather_data.columns = [f\"Weather_{col}\" for col in weather_data.columns]\n",
    "\n",
    "# Concatenando as novas colunas 'weather' ao DataFrame principal e removendo a coluna original 'weather'\n",
    "df = pd.concat([df, weather_data], axis=1)\n",
    "df.drop(columns=['weather'], inplace=True)\n",
    "\n",
    "# Convertendo a coluna 'Weather_0' em colunas separadas\n",
    "weather_info = df['Weather_0'].apply(pd.Series)\n",
    "weather_info.columns = [f\"Weather_0_{col}\" for col in weather_info.columns]\n",
    "\n",
    "# Concatenando as novas colunas ao DataFrame principal e removendo a coluna original 'Weather_0'\n",
    "df = pd.concat([df, weather_info], axis=1)\n",
    "df.drop(columns=['Weather_0'], inplace=True)\n",
    "\n",
    "df"
   ]
  }
 ],
 "metadata": {
  "kernelspec": {
   "display_name": "Python 3 (ipykernel)",
   "language": "python",
   "name": "python3"
  },
  "language_info": {
   "codemirror_mode": {
    "name": "ipython",
    "version": 3
   },
   "file_extension": ".py",
   "mimetype": "text/x-python",
   "name": "python",
   "nbconvert_exporter": "python",
   "pygments_lexer": "ipython3",
   "version": "3.9.13"
  }
 },
 "nbformat": 4,
 "nbformat_minor": 5
}
